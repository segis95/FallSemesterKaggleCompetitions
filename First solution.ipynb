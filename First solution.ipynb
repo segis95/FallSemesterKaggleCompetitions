{
 "cells": [
  {
   "cell_type": "code",
   "execution_count": 2,
   "metadata": {},
   "outputs": [],
   "source": [
    "import pandas as pd\n",
    "import sklearn as sc\n",
    "import numpy as np\n",
    "import matplotlib.pyplot as plt\n",
    "from collections import defaultdict\n",
    "\n",
    "%matplotlib inline"
   ]
  },
  {
   "cell_type": "markdown",
   "metadata": {},
   "source": [
    "We use xgboost as the principal alg"
   ]
  },
  {
   "cell_type": "code",
   "execution_count": 5,
   "metadata": {},
   "outputs": [],
   "source": [
    "import xgboost as xgb"
   ]
  },
  {
   "cell_type": "markdown",
   "metadata": {},
   "source": [
    "Preprocessing: "
   ]
  },
  {
   "cell_type": "code",
   "execution_count": null,
   "metadata": {},
   "outputs": [],
   "source": [
    "train = pd.read_csv('train.csv')\n",
    "test = pd.read_csv('test.csv')\n",
    "test_ids = test[\"id\"]\n",
    "\n",
    "train = train.drop('id', axis=1)\n",
    "test = test.drop('id', axis=1)\n",
    "\n",
    "train_y = train['target']\n",
    "train_x = train.drop('target', axis = 1)\n",
    "\n",
    "categorial = []\n",
    "binary = []\n",
    "continues = []\n",
    "\n",
    "for f in train_x.columns:         \n",
    "    # Defining the level\n",
    "    if 'bin' in f:\n",
    "        binary.append(f)\n",
    "    elif 'cat' in f:\n",
    "        categorial.append(f)\n",
    "    elif train[f].dtype == float:\n",
    "        continues.append(f)\n",
    "    else:# train[f].dtype == int:\n",
    "        categorial.append(f)\n",
    "        \n",
    "for c in categorial:\n",
    "    temp = pd.concat([pd.Series(train_y), pd.Series(train_x[c])],axis = 1)\n",
    "    freqs = temp.groupby(by = c).agg([\"mean\"])\n",
    "    dic = freqs.to_dict()[('target', 'mean')]\n",
    "    dic = defaultdict(lambda: 0.0, dic)\n",
    "    L = [dic[x] for x in train_x[c]]\n",
    "    try:\n",
    "        K = [dic[x] for x in test[c]]\n",
    "    except(KeyError):\n",
    "        print(dic)\n",
    "        print(c)\n",
    "        break\n",
    "    test[c] = K\n",
    "    train_x[c] = L"
   ]
  },
  {
   "cell_type": "markdown",
   "metadata": {},
   "source": [
    "We prepare and train model using the xgboost alg"
   ]
  },
  {
   "cell_type": "code",
   "execution_count": 15,
   "metadata": {},
   "outputs": [],
   "source": [
    "dtrain = xgb.DMatrix(train_x.values, train_y.values)\n",
    "dtest = xgb.DMatrix(test.values)"
   ]
  },
  {
   "cell_type": "code",
   "execution_count": 16,
   "metadata": {},
   "outputs": [],
   "source": [
    "param = {}\n",
    "param['objective'] = 'binary:logistic'\n",
    "param['eta'] = 0.02\n",
    "param['silent'] = True\n",
    "param['max_depth'] = 5\n",
    "param['subsample'] = 0.8\n",
    "param['colsample_bytree'] = 0.8\n",
    "param['eval_metric'] = 'auc'"
   ]
  },
  {
   "cell_type": "code",
   "execution_count": 17,
   "metadata": {},
   "outputs": [],
   "source": [
    "evallist  = [(dtrain,'eval'), (dtrain,'train')]"
   ]
  },
  {
   "cell_type": "code",
   "execution_count": 18,
   "metadata": {},
   "outputs": [
    {
     "name": "stdout",
     "output_type": "stream",
     "text": [
      "[0]\teval-auc:0.608587\ttrain-auc:0.608587\n",
      "Multiple eval metrics have been passed: 'train-auc' will be used for early stopping.\n",
      "\n",
      "Will train until train-auc hasn't improved in 100 rounds.\n",
      "[9]\teval-auc:0.627062\ttrain-auc:0.627062\n",
      "[18]\teval-auc:0.629382\ttrain-auc:0.629382\n",
      "[27]\teval-auc:0.630499\ttrain-auc:0.630499\n",
      "[36]\teval-auc:0.631414\ttrain-auc:0.631414\n",
      "[45]\teval-auc:0.631549\ttrain-auc:0.631549\n",
      "[54]\teval-auc:0.632875\ttrain-auc:0.632875\n",
      "[63]\teval-auc:0.63343\ttrain-auc:0.63343\n",
      "[72]\teval-auc:0.634292\ttrain-auc:0.634292\n",
      "[81]\teval-auc:0.635107\ttrain-auc:0.635107\n",
      "[90]\teval-auc:0.635818\ttrain-auc:0.635818\n",
      "[99]\teval-auc:0.636191\ttrain-auc:0.636191\n",
      "[108]\teval-auc:0.636535\ttrain-auc:0.636535\n",
      "[117]\teval-auc:0.637547\ttrain-auc:0.637547\n",
      "[126]\teval-auc:0.638541\ttrain-auc:0.638541\n",
      "[135]\teval-auc:0.639861\ttrain-auc:0.639861\n",
      "[144]\teval-auc:0.640887\ttrain-auc:0.640887\n",
      "[153]\teval-auc:0.642319\ttrain-auc:0.642319\n",
      "[162]\teval-auc:0.64369\ttrain-auc:0.64369\n",
      "[171]\teval-auc:0.645173\ttrain-auc:0.645173\n",
      "[180]\teval-auc:0.646581\ttrain-auc:0.646581\n",
      "[189]\teval-auc:0.647743\ttrain-auc:0.647743\n",
      "[198]\teval-auc:0.64863\ttrain-auc:0.64863\n",
      "[207]\teval-auc:0.649792\ttrain-auc:0.649792\n",
      "[216]\teval-auc:0.6509\ttrain-auc:0.6509\n",
      "[225]\teval-auc:0.651875\ttrain-auc:0.651875\n",
      "[234]\teval-auc:0.652846\ttrain-auc:0.652846\n",
      "[243]\teval-auc:0.653691\ttrain-auc:0.653691\n",
      "[252]\teval-auc:0.65461\ttrain-auc:0.65461\n",
      "[261]\teval-auc:0.655438\ttrain-auc:0.655438\n",
      "[270]\teval-auc:0.656237\ttrain-auc:0.656237\n",
      "[279]\teval-auc:0.657009\ttrain-auc:0.657009\n",
      "[288]\teval-auc:0.657821\ttrain-auc:0.657821\n",
      "[297]\teval-auc:0.65871\ttrain-auc:0.65871\n",
      "[306]\teval-auc:0.659559\ttrain-auc:0.659559\n",
      "[315]\teval-auc:0.660464\ttrain-auc:0.660464\n",
      "[324]\teval-auc:0.661308\ttrain-auc:0.661308\n",
      "[333]\teval-auc:0.66202\ttrain-auc:0.66202\n",
      "[342]\teval-auc:0.662824\ttrain-auc:0.662824\n",
      "[351]\teval-auc:0.663416\ttrain-auc:0.663416\n",
      "[360]\teval-auc:0.664279\ttrain-auc:0.664279\n",
      "[369]\teval-auc:0.665188\ttrain-auc:0.665188\n",
      "[378]\teval-auc:0.665853\ttrain-auc:0.665853\n",
      "[387]\teval-auc:0.666656\ttrain-auc:0.666656\n",
      "[396]\teval-auc:0.667359\ttrain-auc:0.667359\n",
      "[405]\teval-auc:0.668288\ttrain-auc:0.668288\n",
      "[414]\teval-auc:0.669079\ttrain-auc:0.669079\n",
      "[423]\teval-auc:0.66997\ttrain-auc:0.66997\n",
      "[432]\teval-auc:0.670724\ttrain-auc:0.670724\n",
      "[441]\teval-auc:0.671479\ttrain-auc:0.671479\n",
      "[450]\teval-auc:0.672249\ttrain-auc:0.672249\n",
      "[459]\teval-auc:0.67278\ttrain-auc:0.67278\n",
      "[468]\teval-auc:0.673447\ttrain-auc:0.673447\n",
      "[477]\teval-auc:0.674168\ttrain-auc:0.674168\n",
      "[486]\teval-auc:0.674773\ttrain-auc:0.674773\n",
      "[495]\teval-auc:0.67534\ttrain-auc:0.67534\n",
      "[504]\teval-auc:0.676075\ttrain-auc:0.676075\n",
      "[513]\teval-auc:0.676713\ttrain-auc:0.676713\n",
      "[522]\teval-auc:0.677448\ttrain-auc:0.677448\n",
      "[531]\teval-auc:0.678118\ttrain-auc:0.678118\n",
      "[540]\teval-auc:0.678701\ttrain-auc:0.678701\n",
      "[549]\teval-auc:0.679168\ttrain-auc:0.679168\n",
      "[558]\teval-auc:0.679862\ttrain-auc:0.679862\n",
      "[567]\teval-auc:0.680525\ttrain-auc:0.680525\n",
      "[576]\teval-auc:0.681122\ttrain-auc:0.681122\n",
      "[585]\teval-auc:0.681547\ttrain-auc:0.681547\n",
      "[594]\teval-auc:0.682112\ttrain-auc:0.682112\n",
      "[603]\teval-auc:0.682602\ttrain-auc:0.682602\n",
      "[612]\teval-auc:0.683053\ttrain-auc:0.683053\n",
      "[621]\teval-auc:0.683733\ttrain-auc:0.683733\n",
      "[630]\teval-auc:0.684292\ttrain-auc:0.684292\n",
      "[639]\teval-auc:0.684866\ttrain-auc:0.684866\n",
      "[648]\teval-auc:0.685365\ttrain-auc:0.685365\n",
      "[657]\teval-auc:0.685866\ttrain-auc:0.685866\n",
      "[666]\teval-auc:0.686426\ttrain-auc:0.686426\n",
      "[675]\teval-auc:0.686955\ttrain-auc:0.686955\n",
      "[684]\teval-auc:0.687472\ttrain-auc:0.687472\n",
      "[693]\teval-auc:0.688098\ttrain-auc:0.688098\n",
      "[702]\teval-auc:0.688627\ttrain-auc:0.688627\n",
      "[711]\teval-auc:0.6891\ttrain-auc:0.6891\n",
      "[720]\teval-auc:0.689657\ttrain-auc:0.689657\n",
      "[729]\teval-auc:0.690144\ttrain-auc:0.690144\n",
      "[738]\teval-auc:0.690695\ttrain-auc:0.690695\n",
      "[747]\teval-auc:0.691253\ttrain-auc:0.691253\n",
      "[756]\teval-auc:0.691896\ttrain-auc:0.691896\n",
      "[765]\teval-auc:0.692317\ttrain-auc:0.692317\n",
      "[774]\teval-auc:0.69286\ttrain-auc:0.69286\n",
      "[783]\teval-auc:0.693289\ttrain-auc:0.693289\n",
      "[792]\teval-auc:0.693834\ttrain-auc:0.693834\n",
      "[801]\teval-auc:0.694264\ttrain-auc:0.694264\n",
      "[810]\teval-auc:0.694747\ttrain-auc:0.694747\n",
      "[819]\teval-auc:0.695301\ttrain-auc:0.695301\n",
      "[828]\teval-auc:0.695619\ttrain-auc:0.695619\n",
      "[837]\teval-auc:0.696021\ttrain-auc:0.696021\n",
      "[846]\teval-auc:0.696492\ttrain-auc:0.696492\n",
      "[855]\teval-auc:0.696985\ttrain-auc:0.696985\n",
      "[864]\teval-auc:0.697462\ttrain-auc:0.697462\n",
      "[873]\teval-auc:0.697945\ttrain-auc:0.697945\n",
      "[882]\teval-auc:0.698385\ttrain-auc:0.698385\n",
      "[891]\teval-auc:0.698965\ttrain-auc:0.698965\n",
      "[900]\teval-auc:0.699469\ttrain-auc:0.699469\n",
      "[909]\teval-auc:0.700168\ttrain-auc:0.700168\n",
      "[918]\teval-auc:0.700625\ttrain-auc:0.700625\n",
      "[927]\teval-auc:0.701036\ttrain-auc:0.701036\n",
      "[936]\teval-auc:0.701424\ttrain-auc:0.701424\n",
      "[945]\teval-auc:0.701888\ttrain-auc:0.701888\n",
      "[954]\teval-auc:0.702325\ttrain-auc:0.702325\n",
      "[962]\teval-auc:0.702712\ttrain-auc:0.702712\n"
     ]
    }
   ],
   "source": [
    "model=xgb.train(param, dtrain, 963, evallist, early_stopping_rounds=100, maximize=True, verbose_eval=9)"
   ]
  },
  {
   "cell_type": "markdown",
   "metadata": {},
   "source": [
    "We build a prediction based on our model"
   ]
  },
  {
   "cell_type": "code",
   "execution_count": 19,
   "metadata": {},
   "outputs": [],
   "source": [
    "pred = model.predict(dtest)"
   ]
  },
  {
   "cell_type": "markdown",
   "metadata": {},
   "source": [
    "Above we had extracted the id's(test_ids) from the test set(before erase them)"
   ]
  },
  {
   "cell_type": "markdown",
   "metadata": {},
   "source": [
    "Here we create a dataframe of needed format(corresponding to the Kaggle rules)"
   ]
  },
  {
   "cell_type": "code",
   "execution_count": 34,
   "metadata": {},
   "outputs": [],
   "source": [
    "res = pd.concat([test_ids, pd.Series(pred)],axis = 1)"
   ]
  },
  {
   "cell_type": "code",
   "execution_count": 36,
   "metadata": {},
   "outputs": [],
   "source": [
    "res.columns = ['id', 'target']"
   ]
  },
  {
   "cell_type": "code",
   "execution_count": 40,
   "metadata": {},
   "outputs": [],
   "source": [
    "res.to_csv('submit.csv',index = False)"
   ]
  }
 ],
 "metadata": {
  "kernelspec": {
   "display_name": "Python [conda env:condathree]",
   "language": "python",
   "name": "conda-env-condathree-py"
  },
  "language_info": {
   "codemirror_mode": {
    "name": "ipython",
    "version": 3
   },
   "file_extension": ".py",
   "mimetype": "text/x-python",
   "name": "python",
   "nbconvert_exporter": "python",
   "pygments_lexer": "ipython3",
   "version": "3.6.3"
  }
 },
 "nbformat": 4,
 "nbformat_minor": 2
}
